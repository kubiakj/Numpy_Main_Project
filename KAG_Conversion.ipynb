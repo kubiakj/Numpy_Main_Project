{
 "cells": [
  {
   "cell_type": "code",
   "execution_count": 2,
   "metadata": {},
   "outputs": [],
   "source": [
    "import numpy as np"
   ]
  },
  {
   "cell_type": "code",
   "execution_count": 6,
   "metadata": {},
   "outputs": [
    {
     "name": "stdout",
     "output_type": "stream",
     "text": [
      "\n",
      "Float Data:\n",
      "\n",
      "  [[7.08746000e+05 9.16000000e+02 1.03916000e+05 ... 1.42999995e+00\n",
      "  2.00000000e+00 1.00000000e+00]\n",
      " [7.08749000e+05 9.16000000e+02 1.03917000e+05 ... 1.82000002e+00\n",
      "  2.00000000e+00 0.00000000e+00]\n",
      " [7.08771000e+05 9.16000000e+02 1.03920000e+05 ... 0.00000000e+00\n",
      "  1.00000000e+00 0.00000000e+00]\n",
      " ...\n",
      " [1.31441200e+06 1.17800000e+03 1.79979000e+05 ... 4.02899995e+01\n",
      "  2.00000000e+00 0.00000000e+00]\n",
      " [1.31441400e+06 1.17800000e+03 1.79981000e+05 ... 1.98710001e+02\n",
      "  8.00000000e+00 2.00000000e+00]\n",
      " [1.31441500e+06 1.17800000e+03 1.79982000e+05 ... 1.65609999e+02\n",
      "  5.00000000e+00 2.00000000e+00]]\n",
      "\n",
      "String Data:\n",
      "\n",
      " [['708746' '916' '103916' ... '1.429999948' '2' '1']\n",
      " ['708749' '916' '103917' ... '1.820000023' '2' '0']\n",
      " ['708771' '916' '103920' ... '0' '1' '0']\n",
      " ...\n",
      " ['1314412' '1178' '179979' ... '40.28999949' '2' '0']\n",
      " ['1314414' '1178' '179981' ... '198.7100005' '8' '2']\n",
      " ['1314415' '1178' '179982' ... '165.6099987' '5' '2']]\n"
     ]
    }
   ],
   "source": [
    "# Loading the data\n",
    "data_str = np.genfromtxt(\"KAG_Conversion_Data.csv\", delimiter=\",\", skip_header=1,dtype=str)\n",
    "data_float=np.genfromtxt(\"KAG_Conversion_Data.csv\",delimiter=',',skip_header=1,dtype=float)\n",
    "print(\"\\nFloat Data:\\n\\n \", data_float)\n",
    "print('\\nString Data:\\n\\n',data_str)"
   ]
  },
  {
   "cell_type": "code",
   "execution_count": 7,
   "metadata": {},
   "outputs": [
    {
     "name": "stdout",
     "output_type": "stream",
     "text": [
      "\n",
      "Type of data: \n",
      "\n",
      "\n",
      " <class 'numpy.ndarray'> <class 'numpy.ndarray'>\n"
     ]
    }
   ],
   "source": [
    "print(\"\\nType of data: \\n\\n\\n\", type(data_str), type(data_float))"
   ]
  },
  {
   "cell_type": "code",
   "execution_count": 15,
   "metadata": {},
   "outputs": [
    {
     "name": "stdout",
     "output_type": "stream",
     "text": [
      "['1178' '916' '936']\n"
     ]
    }
   ],
   "source": [
    "# How many unique ad campaigns (xyzcampaignid) does this data contain ? And for how many times was each campaign run ?\n",
    "xyz = data_str[:,1]\n",
    "unique_id = np.unique(xyz)\n",
    "print(unique_id)"
   ]
  },
  {
   "cell_type": "code",
   "execution_count": 16,
   "metadata": {},
   "outputs": [
    {
     "name": "stdout",
     "output_type": "stream",
     "text": [
      "['1178' '916' '936']\n",
      "[625  54 464]\n"
     ]
    }
   ],
   "source": [
    "#Checking out for unique id\n",
    "unique_id, count = np.unique(xyz, return_counts=True)\n",
    "print(unique_id)\n",
    "print(count)"
   ]
  },
  {
   "cell_type": "code",
   "execution_count": 21,
   "metadata": {},
   "outputs": [
    {
     "name": "stdout",
     "output_type": "stream",
     "text": [
      "1178 ran 625 times\n",
      "916 ran 54 times\n",
      "936 ran 464 times\n"
     ]
    }
   ],
   "source": [
    "# checking the number of times each campaign ran\n",
    "for i in range(len(unique_id)):\n",
    "    print('{} ran {} times'.format(unique_id[i],count[i]))"
   ]
  },
  {
   "cell_type": "code",
   "execution_count": 22,
   "metadata": {},
   "outputs": [
    {
     "name": "stdout",
     "output_type": "stream",
     "text": [
      "['30-34' '30-34' '30-34' ... '45-49' '45-49' '45-49']\n"
     ]
    }
   ],
   "source": [
    "# What are the age groups that were targeted through these ad campaigns?\n",
    "age_group= data_str[:,3]\n",
    "print(age_group)"
   ]
  },
  {
   "cell_type": "code",
   "execution_count": 23,
   "metadata": {},
   "outputs": [
    {
     "data": {
      "text/plain": [
       "array(['30-34', '35-39', '40-44', '45-49'], dtype='<U11')"
      ]
     },
     "execution_count": 23,
     "metadata": {},
     "output_type": "execute_result"
    }
   ],
   "source": [
    "np.unique(age_group)"
   ]
  },
  {
   "cell_type": "code",
   "execution_count": 24,
   "metadata": {},
   "outputs": [
    {
     "name": "stdout",
     "output_type": "stream",
     "text": [
      "['30-34' '35-39' '40-44' '45-49']\n"
     ]
    }
   ],
   "source": [
    "unique_age_group=np.unique(age_group)\n",
    "print(unique_age_group)"
   ]
  },
  {
   "cell_type": "code",
   "execution_count": 25,
   "metadata": {},
   "outputs": [
    {
     "name": "stdout",
     "output_type": "stream",
     "text": [
      "Average amount spent:  51.36065613141295\n",
      "Minimum amount spent:  0.0\n",
      "Maximum amount spent:  639.9499981\n"
     ]
    }
   ],
   "source": [
    "# What was the average, minimum and maximum amount spent on the ads?\n",
    "ads = data_float[:,8]\n",
    "avg_spent = ads.mean()\n",
    "min_spent = min(ads)\n",
    "max_spent = max(ads)\n",
    "print('Average amount spent: ', avg_spent)\n",
    "print('Minimum amount spent: ', min_spent)\n",
    "print('Maximum amount spent: ', max_spent)"
   ]
  },
  {
   "cell_type": "code",
   "execution_count": 26,
   "metadata": {},
   "outputs": [
    {
     "name": "stdout",
     "output_type": "stream",
     "text": [
      "The max of clicks is:  421.0\n",
      "The id of ad having the maximum number of clicks [1121814.]\n"
     ]
    }
   ],
   "source": [
    "# What is the id of the ad having the maximum number of clicks ?\n",
    "id_col = data_float[:,0] \n",
    "max_clicks = max(data_float[:,7])\n",
    "print('The max of clicks is: ',max_clicks)\n",
    "print(\"The id of ad having the maximum number of clicks\",id_col[data_float[:,7]==max_clicks])"
   ]
  },
  {
   "cell_type": "code",
   "execution_count": 27,
   "metadata": {},
   "outputs": [
    {
     "name": "stdout",
     "output_type": "stream",
     "text": [
      "Total amount 1079.0\n",
      "Max amount 21.0\n"
     ]
    }
   ],
   "source": [
    "# How many people bought the product after seeing the ad with most clicks? Is that the maximum number of purchases in this dataset?\n",
    "app_conv = data_float[:,10]\n",
    "sum_amount = sum(app_conv)\n",
    "max_amount = max(app_conv)\n",
    "print('Total amount',sum_amount)\n",
    "print('Max amount',max_amount)\n"
   ]
  },
  {
   "cell_type": "code",
   "execution_count": 33,
   "metadata": {},
   "outputs": [
    {
     "name": "stdout",
     "output_type": "stream",
     "text": [
      "Number of people bought the product after seeing the ad with most clicks:  [13.]\n"
     ]
    }
   ],
   "source": [
    "print('Number of people bought the product after seeing the ad with most clicks: ',app_conv[data_float[:,7] == 421])"
   ]
  },
  {
   "cell_type": "code",
   "execution_count": 37,
   "metadata": {},
   "outputs": [
    {
     "name": "stdout",
     "output_type": "stream",
     "text": [
      "[[1.12110400e+06 1.17800000e+03 1.44533000e+05            nan\n",
      "             nan 1.60000000e+01 2.08066600e+06 2.02000000e+02\n",
      "  3.60150001e+02 4.00000000e+01 2.10000000e+01]]\n"
     ]
    }
   ],
   "source": [
    "# Find the details of the product having maximum number of purchases\n",
    "print(data_float[app_conv==21])"
   ]
  },
  {
   "cell_type": "code",
   "execution_count": null,
   "metadata": {},
   "outputs": [],
   "source": []
  }
 ],
 "metadata": {
  "kernelspec": {
   "display_name": "Python 3",
   "language": "python",
   "name": "python3"
  },
  "language_info": {
   "codemirror_mode": {
    "name": "ipython",
    "version": 3
   },
   "file_extension": ".py",
   "mimetype": "text/x-python",
   "name": "python",
   "nbconvert_exporter": "python",
   "pygments_lexer": "ipython3",
   "version": "3.7.6"
  }
 },
 "nbformat": 4,
 "nbformat_minor": 4
}
